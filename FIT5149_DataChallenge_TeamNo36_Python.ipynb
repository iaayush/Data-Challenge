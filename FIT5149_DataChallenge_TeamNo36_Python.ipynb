{
 "cells": [
  {
   "cell_type": "markdown",
   "metadata": {},
   "source": [
    "## FIT5149 Applied Data Analytics Challenge\n",
    "### TEAM NO 36\n",
    "### Modelling from data"
   ]
  },
  {
   "cell_type": "markdown",
   "metadata": {},
   "source": [
    "#### importing libraries"
   ]
  },
  {
   "cell_type": "code",
   "execution_count": 1,
   "metadata": {},
   "outputs": [],
   "source": [
    "from sklearn.svm import LinearSVC\n",
    "import pandas as pd\n",
    "from sklearn.metrics import accuracy_score, classification_report"
   ]
  },
  {
   "cell_type": "markdown",
   "metadata": {},
   "source": [
    "#### reading pre-processed data"
   ]
  },
  {
   "cell_type": "code",
   "execution_count": 2,
   "metadata": {},
   "outputs": [],
   "source": [
    "train_df = pd.read_csv('./train_dataset.csv',sep=',',encoding='utf-8')\n",
    "test_df = pd.read_csv('./test_dataset.csv',sep=',',encoding='utf-8')"
   ]
  },
  {
   "cell_type": "markdown",
   "metadata": {},
   "source": [
    "#### removing unnecessary columns from our data frame."
   ]
  },
  {
   "cell_type": "code",
   "execution_count": 3,
   "metadata": {},
   "outputs": [],
   "source": [
    "train_df.drop(['Unnamed: 0','doc_id'],axis=1,inplace=True)\n",
    "test_df.drop(['Unnamed: 0'],axis=1,inplace=True)"
   ]
  },
  {
   "cell_type": "markdown",
   "metadata": {},
   "source": [
    "#### let's give our data frame a random shuffle before training the model"
   ]
  },
  {
   "cell_type": "code",
   "execution_count": 4,
   "metadata": {},
   "outputs": [],
   "source": [
    "train_df = train_df.sample(frac=1).reset_index(drop=True)"
   ]
  },
  {
   "cell_type": "markdown",
   "metadata": {},
   "source": [
    "##### Let's split the data into training and testing based on learned model"
   ]
  },
  {
   "cell_type": "markdown",
   "metadata": {},
   "source": [
    "#### from our training data we let's seperate one set for training and one for testing our model accuracy."
   ]
  },
  {
   "cell_type": "code",
   "execution_count": 5,
   "metadata": {},
   "outputs": [],
   "source": [
    "y = train_df.iloc[0:100000,-1]\n",
    "x = train_df.iloc[0:100000,0:1286]"
   ]
  },
  {
   "cell_type": "code",
   "execution_count": 6,
   "metadata": {},
   "outputs": [],
   "source": [
    "LSVC = LinearSVC()"
   ]
  },
  {
   "cell_type": "markdown",
   "metadata": {},
   "source": [
    "#### fit a linear support vector machine "
   ]
  },
  {
   "cell_type": "code",
   "execution_count": 7,
   "metadata": {},
   "outputs": [
    {
     "data": {
      "text/plain": [
       "LinearSVC(C=1.0, class_weight=None, dual=True, fit_intercept=True,\n",
       "     intercept_scaling=1, loss='squared_hinge', max_iter=1000,\n",
       "     multi_class='ovr', penalty='l2', random_state=None, tol=0.0001,\n",
       "     verbose=0)"
      ]
     },
     "execution_count": 7,
     "metadata": {},
     "output_type": "execute_result"
    }
   ],
   "source": [
    "LSVC.fit(x,y)"
   ]
  },
  {
   "cell_type": "markdown",
   "metadata": {},
   "source": [
    "#### creating a dataset to evaluate our model"
   ]
  },
  {
   "cell_type": "code",
   "execution_count": 8,
   "metadata": {},
   "outputs": [],
   "source": [
    "y2 = train_df.iloc[100001:,-1]\n",
    "x2 = train_df.iloc[100001:,0:1286]"
   ]
  },
  {
   "cell_type": "markdown",
   "metadata": {},
   "source": [
    "#### make prediction on learned model"
   ]
  },
  {
   "cell_type": "code",
   "execution_count": 9,
   "metadata": {},
   "outputs": [],
   "source": [
    "y2_pred = LSVC.predict(x2)"
   ]
  },
  {
   "cell_type": "code",
   "execution_count": 10,
   "metadata": {},
   "outputs": [
    {
     "name": "stdout",
     "output_type": "stream",
     "text": [
      "Accuracy of SVM 0.7423960273122284\n"
     ]
    }
   ],
   "source": [
    "print(\"Accuracy of SVM\",accuracy_score(y2_pred,y2))"
   ]
  },
  {
   "cell_type": "markdown",
   "metadata": {},
   "source": [
    "#### Let's see how our model performed overall"
   ]
  },
  {
   "cell_type": "code",
   "execution_count": 11,
   "metadata": {},
   "outputs": [
    {
     "name": "stdout",
     "output_type": "stream",
     "text": [
      "              precision    recall  f1-score   support\n",
      "\n",
      "          C1       0.65      0.57      0.61       284\n",
      "         C10       0.80      0.71      0.75       312\n",
      "         C11       0.96      0.93      0.94       276\n",
      "         C12       0.99      0.98      0.99       375\n",
      "         C13       0.88      0.78      0.83       283\n",
      "         C14       0.76      0.67      0.71       302\n",
      "         C15       0.95      0.88      0.91       359\n",
      "         C16       0.67      0.78      0.72       184\n",
      "         C17       0.90      0.84      0.87       293\n",
      "         C18       0.71      0.65      0.68       275\n",
      "         C19       0.87      0.83      0.85       290\n",
      "          C2       0.30      0.45      0.36       186\n",
      "         C20       0.78      0.69      0.73       336\n",
      "         C21       0.98      0.94      0.96       338\n",
      "         C22       0.38      0.50      0.43       185\n",
      "         C23       0.86      0.74      0.80       269\n",
      "          C3       0.41      0.58      0.48       182\n",
      "          C4       0.39      0.54      0.45       262\n",
      "          C5       0.97      0.98      0.97       275\n",
      "          C6       0.53      0.63      0.57       219\n",
      "          C7       0.76      0.65      0.70       335\n",
      "          C8       0.77      0.72      0.74       287\n",
      "          C9       0.70      0.67      0.68       337\n",
      "\n",
      "   micro avg       0.74      0.74      0.74      6444\n",
      "   macro avg       0.74      0.73      0.73      6444\n",
      "weighted avg       0.77      0.74      0.75      6444\n",
      "\n"
     ]
    }
   ],
   "source": [
    "print(classification_report(y2_pred,y2))"
   ]
  },
  {
   "cell_type": "markdown",
   "metadata": {},
   "source": [
    "#### based on learned model let's make prediction in given test dataset."
   ]
  },
  {
   "cell_type": "code",
   "execution_count": 12,
   "metadata": {},
   "outputs": [],
   "source": [
    "x3 = test_df.iloc[:,0:1286] ###extracting all the features from data frame to feed into the model"
   ]
  },
  {
   "cell_type": "markdown",
   "metadata": {},
   "source": [
    "#### new column created that contains labels based on learned model"
   ]
  },
  {
   "cell_type": "code",
   "execution_count": 13,
   "metadata": {},
   "outputs": [],
   "source": [
    "test_df['label'] = \"\"\n",
    "test_df['label'] = LSVC.predict(x3)"
   ]
  },
  {
   "cell_type": "markdown",
   "metadata": {},
   "source": [
    "#### let's extract the information of document id and corresponding label for it"
   ]
  },
  {
   "cell_type": "code",
   "execution_count": 14,
   "metadata": {},
   "outputs": [],
   "source": [
    "f = open(\"testing_labels_pred.txt\",\"w+\")\n",
    "for i in range(len(test_df)):\n",
    "    f.write(test_df['doc_id'][i] + \"\\t\" + test_df['label'][i] + \"\\n\")\n",
    "    \n",
    "f.close()"
   ]
  }
 ],
 "metadata": {
  "kernelspec": {
   "display_name": "Python 3",
   "language": "python",
   "name": "python3"
  },
  "language_info": {
   "codemirror_mode": {
    "name": "ipython",
    "version": 3
   },
   "file_extension": ".py",
   "mimetype": "text/x-python",
   "name": "python",
   "nbconvert_exporter": "python",
   "pygments_lexer": "ipython3",
   "version": "3.7.3"
  }
 },
 "nbformat": 4,
 "nbformat_minor": 2
}
